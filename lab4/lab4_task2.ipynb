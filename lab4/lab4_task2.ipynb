{
 "cells": [
  {
   "cell_type": "code",
   "execution_count": 9,
   "id": "6ca096ee-c483-4fbb-863d-feb2dda70ced",
   "metadata": {},
   "outputs": [
    {
     "name": "stderr",
     "output_type": "stream",
     "text": [
      "Device set to use cpu\n"
     ]
    }
   ],
   "source": [
    "from transformers import pipeline, AutoTokenizer, AutoModelForQuestionAnswering\n",
    "\n",
    "tokenizer = AutoTokenizer.from_pretrained(\"robinhad/ukrainian-qa\")\n",
    "model = AutoModelForQuestionAnswering.from_pretrained(\"robinhad/ukrainian-qa\")\n",
    "\n",
    "qa_model = pipeline(\"question-answering\", model=model.to(\"cpu\"), tokenizer=tokenizer)"
   ]
  },
  {
   "cell_type": "code",
   "execution_count": 10,
   "id": "a561688d-5179-44ce-b470-e863bc7df540",
   "metadata": {},
   "outputs": [],
   "source": [
    "# Тестовий контекст та питання\n",
    "context = \"The Witcher 3: Wild Hunt — це рольова гра, створена польською студією CD Projekt Red. У грі гравці керують відьмаком Геральтом, який подорожує світом у пошуках зниклої прийомної доньки.\"\n",
    "question = \"Як називається головний герой гри The Witcher 3?\""
   ]
  },
  {
   "cell_type": "code",
   "execution_count": 11,
   "id": "b10ad12a-8799-4187-b0b4-ed63f99fab38",
   "metadata": {},
   "outputs": [
    {
     "name": "stdout",
     "output_type": "stream",
     "text": [
      "Питання: Як називається головний герой гри The Witcher 3?\n",
      "Відповідь:  Wild Hunt\n"
     ]
    }
   ],
   "source": [
    "# Отримуємо відповідь від моделі\n",
    "answer = qa_model(question=question, context=context)\n",
    "print(f\"Питання: {question}\")\n",
    "print(f\"Відповідь: {answer['answer']}\")"
   ]
  },
  {
   "cell_type": "code",
   "execution_count": 12,
   "id": "fdd14bb5-3baf-45fd-8b2f-39d614524f73",
   "metadata": {},
   "outputs": [
    {
     "name": "stdout",
     "output_type": "stream",
     "text": [
      "Питання: Що можуть робити гравці в Minecraft?\n",
      "Відповідь:  досліджувати, будувати, виживати й створювати власні світи.\n"
     ]
    }
   ],
   "source": [
    "# Третє питання\n",
    "context = \"Minecraft — це гра-пісочниця, яка дозволяє гравцям досліджувати, будувати, виживати й створювати власні світи. Гра отримала величезну популярність завдяки своїй простоті й творчим можливостям.\"\n",
    "question = \"Що можуть робити гравці в Minecraft?\"\n",
    "answer = qa_model(question=question, context=context)\n",
    "print(f\"Питання: {question}\")\n",
    "print(f\"Відповідь: {answer['answer']}\")"
   ]
  },
  {
   "cell_type": "code",
   "execution_count": 13,
   "id": "01e09de2-6ca6-4d05-98e8-89bbe986092c",
   "metadata": {},
   "outputs": [
    {
     "name": "stdout",
     "output_type": "stream",
     "text": [
      "Питання: Чому Minecraft стала популярною?\n",
      "Відповідь:  завдяки своїй простоті й творчим можливостям.\n"
     ]
    }
   ],
   "source": [
    "# Четверте питання\n",
    "question = \"Чому Minecraft стала популярною?\"\n",
    "answer = qa_model(question=question, context=context)\n",
    "print(f\"Питання: {question}\")\n",
    "print(f\"Відповідь: {answer['answer']}\")"
   ]
  },
  {
   "cell_type": "code",
   "execution_count": null,
   "id": "1e44e643-f51c-428b-8356-ab20017bc2c4",
   "metadata": {},
   "outputs": [],
   "source": []
  }
 ],
 "metadata": {
  "kernelspec": {
   "display_name": "Python 3 (ipykernel)",
   "language": "python",
   "name": "python3"
  },
  "language_info": {
   "codemirror_mode": {
    "name": "ipython",
    "version": 3
   },
   "file_extension": ".py",
   "mimetype": "text/x-python",
   "name": "python",
   "nbconvert_exporter": "python",
   "pygments_lexer": "ipython3",
   "version": "3.12.6"
  }
 },
 "nbformat": 4,
 "nbformat_minor": 5
}
